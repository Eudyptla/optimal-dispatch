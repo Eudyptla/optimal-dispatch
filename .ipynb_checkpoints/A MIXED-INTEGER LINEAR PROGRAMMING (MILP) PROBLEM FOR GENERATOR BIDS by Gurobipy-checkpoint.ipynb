{
 "cells": [
  {
   "cell_type": "markdown",
   "metadata": {},
   "source": [
    "# A MIXED-INTEGER LINEAR PROGRAMMING (MILP) PROBLEM FOR GENERATOR BIDS\n",
    "\n",
    "https://portfolio.katiegirl.net/2019/03/03/a-mixed-integer-linear-programming-milp-problem-for-generator-bids/\n",
    "\n",
    "Try Gurobipy to solve."
   ]
  },
  {
   "cell_type": "markdown",
   "metadata": {},
   "source": [
    "# The Challenge\n",
    "Two generators (G1 and G2) are competing to supply a 60MW load. \n",
    "\n",
    "The bidding information of the two generators is shown in Table 1 for G1 and in Table 2 for G2. \n",
    "\n",
    "The minimum and maximum capacities for G1 are 15MW and 65MW, respectively. \n",
    "\n",
    "The minimum and maximum capacities for G2 are 10MW and 80MW, respectively.\n",
    "\n",
    "Assume each unit has a no-load cost. No-load cost for G1 is \\\\$ 100. No-load cost for G2 is \\\\$ 200."
   ]
  },
  {
   "cell_type": "markdown",
   "metadata": {},
   "source": [
    "# Table\n",
    "\n",
    "table 1 G1 Bidding Information\n",
    "\n",
    "| Quantity (MW) | Price (\\\\$ /MWh) |\n",
    "| :-----:       | :----:           |\n",
    "| 20            | 20               | \n",
    "| 30            | 25               |\n",
    "| 15            | 30               |\n",
    "\n",
    "\n",
    "table 2 G2 Bidding Information\n",
    "\n",
    "| Quantity (MW) | Price (\\\\$ /MWh) |\n",
    "| :-----:       | :----:           |\n",
    "| 15            | 28               | \n",
    "| 40            | 26               |\n",
    "| 25            | 32               |"
   ]
  },
  {
   "cell_type": "markdown",
   "metadata": {},
   "source": [
    "# Deliverables\n",
    "\n",
    "Find the minimum cost to supply the load and the accepted quantities for G1 and G2. \n",
    "\n",
    "Formulate the problem using mixed-integer linear programming.\n",
    "\n",
    "Complete MILP formulation (variables, objective function, constraints, bounds)\n",
    "\n",
    "Optimal solutions (commitment of units, accepted quantities, cost to supply the load)"
   ]
  },
  {
   "cell_type": "markdown",
   "metadata": {},
   "source": [
    "# Hints\n",
    "\n",
    "It’s possible that only one unit is needed to supply the load.\n",
    "\n",
    "If a unit is committed, a no-load cost will be incurred.\n",
    "\n",
    "Cost curve for G1 is convex when it’s committed. Cost curve for G2 is non-convex when it’s committed."
   ]
  },
  {
   "cell_type": "markdown",
   "metadata": {},
   "source": [
    "# Import Library"
   ]
  },
  {
   "cell_type": "code",
   "execution_count": 2,
   "metadata": {},
   "outputs": [],
   "source": [
    "from gurobipy import *"
   ]
  },
  {
   "cell_type": "markdown",
   "metadata": {},
   "source": [
    "# Model"
   ]
  },
  {
   "cell_type": "code",
   "execution_count": 3,
   "metadata": {},
   "outputs": [
    {
     "name": "stdout",
     "output_type": "stream",
     "text": [
      "Academic license - for non-commercial use only - expires 2022-03-19\n",
      "Using license file C:\\Users\\YiSong\\gurobi.lic\n"
     ]
    }
   ],
   "source": [
    "model = Model('Generators_Biding')\n",
    "model.update()"
   ]
  },
  {
   "cell_type": "markdown",
   "metadata": {},
   "source": [
    "# Add decision variables"
   ]
  },
  {
   "cell_type": "code",
   "execution_count": null,
   "metadata": {},
   "outputs": [],
   "source": []
  }
 ],
 "metadata": {
  "kernelspec": {
   "display_name": "Python 3",
   "language": "python",
   "name": "python3"
  },
  "language_info": {
   "codemirror_mode": {
    "name": "ipython",
    "version": 3
   },
   "file_extension": ".py",
   "mimetype": "text/x-python",
   "name": "python",
   "nbconvert_exporter": "python",
   "pygments_lexer": "ipython3",
   "version": "3.7.0"
  }
 },
 "nbformat": 4,
 "nbformat_minor": 4
}
