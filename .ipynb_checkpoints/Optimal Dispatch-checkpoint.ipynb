{
 "cells": [
  {
   "cell_type": "markdown",
   "metadata": {},
   "source": [
    "# Optimal Dispatch "
   ]
  },
  {
   "cell_type": "markdown",
   "metadata": {},
   "source": [
    "* 目標:最大化一整年利潤\n",
    "\n",
    "* 限制:每月供電量必須符合每月轉供契約度數\n"
   ]
  },
  {
   "cell_type": "markdown",
   "metadata": {},
   "source": [
    "# Math Model\n",
    "\n",
    "* 符號設定\n",
    "\n",
    "M : 電廠編號(m =1, 2, 3, ... M)\n",
    "\n",
    "N : 顧客編號(n =1, 2, 3, ... N)\n",
    "\n",
    "I : 合約編號(i =1, 2, 3, ... I)\n",
    "\n",
    "Month : 月份(Month = 1, 2, 3, ... 12)\n",
    "\n",
    "Day : 日期( Day = 1, 2, 3 ... Day)\n",
    "\n",
    "T : 時段( t = 1, 2, 3, ... 96)\n",
    "\n",
    "每15分鐘為一個時段，一天分成96個時段。\n",
    "\n",
    "考量供給等於需求，多餘的電力賣台電，新增兩個變動變數。\n",
    "\n",
    "$T_{P}loss$ : 供給小於需求平衡數 T_Ploss >= 0\n",
    "\n",
    "$T_{N}loss$ : 供給大於需求平衡數 T_Nloss < 0\n",
    "\n",
    "目前考量是餘電要盡量減少，或許可以設定餘電上下界，餘電逞罰待討論。"
   ]
  },
  {
   "cell_type": "markdown",
   "metadata": {},
   "source": [
    "* 參數設定\n",
    "\n",
    "根據台電五項轉供公式:\n",
    "\n",
    "1.計算各別發電業各時段可參與轉供發電度數:\n",
    "\n",
    "$$ G_{mi} = R_{m} \\times P_{mi} $$\n",
    "\n",
    "$G_{mi}$：各別發電業者 m 在不同契約 i之參與轉供發電度數，m = 1,2, ⋯ , M個發電業；\n",
    "\n",
    "$R_{m}$：各別發電業者 m 各時段實際發電度數；\n",
    "\n",
    "$P_{mi}$：各別發電業者 m在不同契約 i之發電量轉供比例；"
   ]
  },
  {
   "cell_type": "markdown",
   "metadata": {},
   "source": [
    "2.計算各別轉供用戶各時段可參與轉供用電度數:\n",
    "\n",
    "$$ U_{ni} = min [A_{ni} , C_{ni}] $$\n",
    "\n",
    "$U_{ni}$：各別轉供用戶在不同契約 i 可參與轉供之用電度數，n = 1,2, ⋯ ,N個用戶；\n",
    "\n",
    "$A_{ni}$：各別轉供用戶在不同契約 i每月約定轉供契約度數之剩餘數；\n",
    "\n",
    "$C_{ni}$：用戶 n 在不同契約 i 分配之用電度數；\n",
    "\n",
    "$$ C_{ni} = C_{n} \\times \\frac{k_{ni}}{\\sum ^{I}_{i=1} k_{ni}} $$\n",
    "\n",
    "$C_{n}$：用戶 n 各時段實際用電度數；\n",
    "\n",
    "$k_{ni}$：用戶 n 在契約 i 約定之每月轉供契約度數，i = 1,2, ⋯ , I 個契約；\n"
   ]
  },
  {
   "cell_type": "markdown",
   "metadata": {},
   "source": [
    "3.計算各別契約 i 各時段可媒合之總轉供量$Q_{wi}$\n",
    "\n",
    "$$ Q_{wi} = min [\\sum ^{M}_{m=1} G_{mi}, \\sum ^{N}_{n=1} U_{ni}]  $$\n",
    "\n",
    "$\\sum ^{M}_{m=1}G_{mi}$: 參與契約 i 所有發電業(1~M)總參與轉供發電量；\n",
    "\n",
    "$\\sum ^{N}_{n=1}U_{ni}$：參與契約 i 所有用戶(1~N)總參與轉供用電量；"
   ]
  },
  {
   "cell_type": "markdown",
   "metadata": {},
   "source": [
    "4.契約 i 各別發電業在各時段媒合之轉供度數$q_{mi}$\n",
    "\n",
    "$$ q_{mi} = Q_{wi} \\times \\frac{G_{mi}}{\\sum ^{M}_{m=1} G_{mi}}  $$"
   ]
  },
  {
   "cell_type": "markdown",
   "metadata": {},
   "source": [
    "5.契約 i 各別用戶在各時段媒合之轉供度數$q_{ni}$\n",
    "\n",
    "$$ q_{ni} = Q_{wi} \\times \\frac{U_{ni}}{\\sum ^{N}_{n=1} U_{ni}}  $$"
   ]
  },
  {
   "cell_type": "markdown",
   "metadata": {},
   "source": [
    "6. 契約i 每度電的價格:\n",
    "    \n",
    "    $$ B_{i} $$\n"
   ]
  },
  {
   "cell_type": "markdown",
   "metadata": {},
   "source": [
    "7.台電不同時段的收購價:\n",
    "    $$ B_{ti} $$\n"
   ]
  },
  {
   "cell_type": "markdown",
   "metadata": {},
   "source": [
    "* 決策變數\n",
    "\n",
    "$$ 1 \\geq P_{mi} \\geq 0 $$\n",
    "\n",
    "$$ T_{P}loss >= 0 $$\n",
    "\n",
    "$$ T_{N}loss < 0 $$"
   ]
  },
  {
   "cell_type": "markdown",
   "metadata": {},
   "source": [
    "* 目標含式:\n",
    "    \n",
    "$$min  -\\sum^{12}_{month=1} \\sum^{Day}_{day =1} \\sum^{96}_{t=1} \\sum ^{I}_{i=1} B_{i}q_{ni}  + B_{ti}T_{N}loss $$    "
   ]
  },
  {
   "cell_type": "markdown",
   "metadata": {},
   "source": [
    "* 限制式:\n",
    "    每月的轉供度數必須符合契約。\n",
    "    \n",
    "    $$ \\sum ^{Day}_{day=1} \\sum ^{96}_{t=1} \\sum ^{I}_{i=1} q_{ni} = k_{ni} $$\n",
    "    \n",
    "    每月剩餘的轉供度數。\n",
    "    \n",
    "    $$ A_{ni} = k_{ni} - \\sum ^{Day}_{day=1} \\sum ^{96}_{t=1} \\sum ^{I}_{i=1} q_{ni} $$\n",
    "    \n",
    "    每個電廠最大轉供總計值為1\n",
    "    \n",
    "    $$ \\sum^{I}_{i=1} P_{mi} = 1 $$\n",
    "    \n",
    "    然後台電五項限制式:\n",
    "        \n",
    "    $$ G_{mi} = R_{m} \\times P_{mi} $$\n",
    "    \n",
    "    $$ U_{ni} = min [A_{ni} , C_{ni}] $$\n",
    "    \n",
    "    $$ Q_{wi} = min [\\sum ^{M}_{m=1} G_{mi}, \\sum ^{N}_{n=1} U_{ni}]  $$\n",
    "    \n",
    "    $$ q_{mi} = Q_{wi} \\times \\frac{G_{mi}}{\\sum ^{M}_{m=1} G_{mi}}  $$    \n",
    "        \n",
    "    $$ q_{ni} = Q_{wi} \\times \\frac{U_{ni}}{\\sum ^{N}_{n=1} U_{ni}}  $$\n",
    "    \n",
    "    考量供給等於需求:\n",
    "        \n",
    "    $$ \\sum ^{M}_{m=1} G_{mi} + T_{P}loss + T_{N}loss = \\sum ^{N}_{n=1} U_{ni} $$"
   ]
  },
  {
   "cell_type": "markdown",
   "metadata": {},
   "source": [
    "# Import Library"
   ]
  },
  {
   "cell_type": "code",
   "execution_count": 1,
   "metadata": {},
   "outputs": [],
   "source": [
    "import numpy as np\n",
    "from gurobipy import*"
   ]
  },
  {
   "cell_type": "markdown",
   "metadata": {},
   "source": [
    "# Model"
   ]
  },
  {
   "cell_type": "code",
   "execution_count": 4,
   "metadata": {},
   "outputs": [
    {
     "name": "stdout",
     "output_type": "stream",
     "text": [
      "Academic license - for non-commercial use only - expires 2022-03-19\n",
      "Using license file C:\\Users\\YiSong\\gurobi.lic\n"
     ]
    }
   ],
   "source": [
    "model = Model('optimal_dispatch')\n",
    "model.update()"
   ]
  },
  {
   "cell_type": "markdown",
   "metadata": {},
   "source": [
    "# Add decision variables\n",
    "\n",
    "假設為10個電廠、10個客戶、10個契約，先最佳化第一個月(1/1 - 1/31)。"
   ]
  },
  {
   "cell_type": "code",
   "execution_count": 10,
   "metadata": {},
   "outputs": [],
   "source": [
    "P_mi = {}\n",
    "T_ploss = {}\n",
    "T_nloss = {}\n",
    "for m in range(1, 11, 1):\n",
    "    for i in range(1, 11, 1):\n",
    "       P_mi[m, i] = model.addVar(lb=0, ub=1, vtype=GRB.CONTINUOUS, name=\"P_%d_%d\"%(m,i)) \n",
    "\n",
    "for day in range(1,32,1):\n",
    "    for t in range(1, 97, 1):\n",
    "        T_ploss[day, t] = model.addVar(lb=0, vtype=GRB.CONTINUOUS, name=\"T_ploss_%d_%d\"%(day,t))\n",
    "        T_nloss[day, t] = model.addVar(ub=0, vtype=GRB.CONTINUOUS, name=\"T_nloss_%d_%d\"%(day,t))"
   ]
  },
  {
   "cell_type": "markdown",
   "metadata": {},
   "source": [
    "# Add objective and constraints"
   ]
  },
  {
   "cell_type": "code",
   "execution_count": null,
   "metadata": {},
   "outputs": [],
   "source": []
  }
 ],
 "metadata": {
  "kernelspec": {
   "display_name": "Python 3",
   "language": "python",
   "name": "python3"
  },
  "language_info": {
   "codemirror_mode": {
    "name": "ipython",
    "version": 3
   },
   "file_extension": ".py",
   "mimetype": "text/x-python",
   "name": "python",
   "nbconvert_exporter": "python",
   "pygments_lexer": "ipython3",
   "version": "3.8.3"
  }
 },
 "nbformat": 4,
 "nbformat_minor": 4
}
