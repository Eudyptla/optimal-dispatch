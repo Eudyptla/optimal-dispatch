{
 "cells": [
  {
   "cell_type": "markdown",
   "metadata": {},
   "source": [
    "# Optimal Dispatch "
   ]
  },
  {
   "cell_type": "markdown",
   "metadata": {},
   "source": [
    "* 目標:最小化一整年餘電量\n",
    "\n",
    "* 限制:\n",
    "    \n",
    "    每月供電量必須小於等於每月轉供上限值\n",
    "    \n",
    "    同時年供應量必須小於年供應量110%\n"
   ]
  },
  {
   "cell_type": "markdown",
   "metadata": {},
   "source": [
    "# Math Model\n",
    "\n",
    "* 符號設定\n",
    "\n",
    "M : 電廠編號(m =1, 2, 3, ... M)\n",
    "\n",
    "N : 顧客編號(n =1, 2, 3, ... N)\n",
    "\n",
    "I : 合約編號(i =1, 2, 3, ... I)\n",
    "\n",
    "Month : 月份(Month = 1, 2, 3, ... 12)\n",
    "\n",
    "Day : 日期( Day = 1, 2, 3 ... Day)\n",
    "\n",
    "T : 時段( t = 1, 2, 3, ... 96)\n",
    "\n",
    "每15分鐘為一個時段，一天分成96個時段。\n",
    "\n",
    "tp : 依台電公告，分成尖峰、離峰、半尖峰、周六半尖峰。"
   ]
  },
  {
   "cell_type": "markdown",
   "metadata": {},
   "source": [
    "經過討論 ，**多餘的電力對於富威電力沒有任何利益**。\n",
    "\n",
    "$T_{loss}$ : 餘電。\n",
    "    \n",
    "目前還有多業者供電問題，考量問題複雜度先把其他業者排除。\n",
    "\n",
    "$Y_{ni} $ : 年契約供電量。"
   ]
  },
  {
   "cell_type": "markdown",
   "metadata": {},
   "source": [
    "* 參數設定\n",
    "\n",
    "根據台電五項轉供公式:\n",
    "\n",
    "1.計算各別發電業各時段可參與轉供發電度數:\n",
    "\n",
    "$$ G_{mi} = R_{m} \\times P_{mi} $$\n",
    "\n",
    "$$ \\frac{1}{4} R_{max} \\geq  R_{m} \\geq 0 $$\n",
    "\n",
    "$ R_{max} $ 為裝置容量。\n",
    "\n",
    "$G_{mi}$：各別發電業者 m 在不同契約 i之參與轉供發電度數，m = 1,2, ⋯ , M個發電業；\n",
    "\n",
    "$R_{m}$：各別發電業者 m 各時段實際發電度數；\n",
    "\n",
    "$P_{mi}$：各別發電業者 m在不同契約 i之發電量轉供比例；"
   ]
  },
  {
   "cell_type": "markdown",
   "metadata": {},
   "source": [
    "2.計算各別轉供用戶各時段可參與轉供用電度數:\n",
    "\n",
    "$$ U_{ni} = min [M_{ni} , Y_{ni}, C_{ni}] $$\n",
    "\n",
    "$U_{ni}$：各別轉供用戶在不同契約 i 可參與轉供之用電度數，n = 1,2, ⋯ ,N個用戶；\n",
    "\n",
    "$M_{ni}$：各別轉供用戶在不同契約 i每月約定轉供契約度數之剩餘數；\n",
    "\n",
    "$Y_{ni}$：各別轉供用戶在不同契約 i每年約定轉供契約度數之剩餘數；\n",
    "\n",
    "$C_{ni}$：用戶 n 在不同契約 i 分配之用電度數；\n",
    "\n",
    "$$ C_{ni} = C_{n} \\times \\frac{\\sum ^{M}_{m=1} G_{mi}}{\\sum ^{I}_{i=1} \\sum ^{M}_{m=1} G_{mi}} $$\n",
    "\n",
    "若契約內發電總合為0，則以發電端的裝置容量乘上該契約轉供比例分配。\n",
    "\n",
    "$$ C_{ni} = C_{n} \\times \\frac {\\sum ^{M}_{m=1} R_{max} \\times P_{mi}}{\\sum ^{I}_{i=1} \\sum ^{M}_{m=1} R_{max} \\times P_{mi}}$$\n",
    "\n",
    "$C_{n}$：用戶 n 各時段實際用電度數；\n",
    "\n"
   ]
  },
  {
   "cell_type": "markdown",
   "metadata": {},
   "source": [
    "3.計算各別契約 i 各時段可媒合之總轉供量$Q_{i}$\n",
    "\n",
    "$$ Q_{i} = min [\\sum ^{M}_{m=1} G_{mi}, \\sum ^{N}_{n=1} U_{ni}]  $$\n",
    "\n",
    "$\\sum ^{M}_{m=1}G_{mi}$: 參與契約 i 所有發電業(1~M)總參與轉供發電量；\n",
    "\n",
    "$\\sum ^{N}_{n=1}U_{ni}$：參與契約 i 所有用戶(1~N)總參與轉供用電量；"
   ]
  },
  {
   "cell_type": "markdown",
   "metadata": {},
   "source": [
    "4.契約 i 各別發電業在各時段媒合之轉供度數$q_{mi}$\n",
    "\n",
    "$$ q_{ni} = Q_{i} \\times \\frac{U_{ni}}{\\sum ^{N}_{n=1} U_{ni}}  $$"
   ]
  },
  {
   "cell_type": "markdown",
   "metadata": {},
   "source": [
    "5.契約 i 各別用戶在各時段媒合之轉供度數$q_{mni}$\n",
    "\n",
    "$$ q_{mni} = q_{ni} \\times \\frac{G_{mi}}{\\sum ^{M}_{m=1} G_{mi}}  $$"
   ]
  },
  {
   "cell_type": "markdown",
   "metadata": {},
   "source": [
    "6. 計算下一 15 分鐘時段之每月/年約定轉供契約度數之剩餘數。\n",
    "\n",
    "$$ M_{ni}^{t+1} = M_{ni}^{t} - q_{ni} $$\n",
    "\n",
    "$$ Y_{ni}^{t+1} = Y_{ni}^{t} - q_{ni} $$"
   ]
  },
  {
   "cell_type": "markdown",
   "metadata": {},
   "source": [
    "7. 依照當期計算後進行月結第二次匹配，並分成四個時段。"
   ]
  },
  {
   "cell_type": "markdown",
   "metadata": {},
   "source": [
    "8. 進行月餘電匹配:\n",
    "    \n",
    "    $$ B_{mi}^{tp} = G_{mi}^{tp} - \\sum ^{N}_{n=1} q_{mni}^{tp} $$\n",
    "    \n",
    "    tp分為四個階段:尖峰、半尖峰、離峰、周六半尖峰"
   ]
  },
  {
   "cell_type": "markdown",
   "metadata": {},
   "source": [
    "9. 計算月客戶為媒合度數:\n",
    "    \n",
    "    $$ S_{ni} = C_{ni} - q_{ni} $$\n",
    "    \n",
    "    $ S^{tp}_{ni} $ 尖峰、半尖峰、離峰、週六半尖峰"
   ]
  },
  {
   "cell_type": "markdown",
   "metadata": {},
   "source": [
    "10. 計算各時段的轉供上限:\n",
    "    \n",
    "    $$ A_{ni}^{tp} = A_{ni} \\times \\frac {S_{ni}^{tp}}{ \\sum _{tp=1}^{4} S_{ni}^{tp}} $$\n",
    "    \n",
    "    $$ A_{ni} = min [M_{ni}, Y_{ni}] $$"
   ]
  },
  {
   "cell_type": "markdown",
   "metadata": {},
   "source": [
    "11. 計算契約i 各時段可轉供之電度數\n",
    "\n",
    "$$ UU^{tp}_{ni} = min[A^{tp}_{ni}, S^{tp}_{ni}]$$"
   ]
  },
  {
   "cell_type": "markdown",
   "metadata": {},
   "source": [
    "12. 計算契約i 各時間電價時段tp 第二次媒合轉供量\n",
    "\n",
    "$$ QQ^{tp}_{i} = min [ \\sum ^{M}_{m=1}B_{mi}^{tp}, \\sum ^{N}_{n=1} UU^{tp}_{ni}]$$"
   ]
  },
  {
   "cell_type": "markdown",
   "metadata": {},
   "source": [
    "13. 計算契約i個別用戶n對在tp時間段之轉供度數\n",
    "\n",
    "$$ qq^{tp}_{mni} = QQ^{tp}_{ni} \\times \\frac{UU^{tp}_{ni}}{\\sum ^{N}_{n=1} UU^{tp}_{ni}} $$"
   ]
  },
  {
   "cell_type": "markdown",
   "metadata": {},
   "source": [
    "14. 計算契約i個別轉供用電端n媒合發電端m在各時間電價時段tp 媒合之轉供度數\n",
    "\n",
    "$$ qq^{tp}{mni} = qq^{tp}_{ni} \\times \\frac {B^{tp}_{mi}}{ \\sum ^{M}_{m=1} B^{tp}_{mi}}$$"
   ]
  },
  {
   "cell_type": "markdown",
   "metadata": {},
   "source": [
    "接下來討論利益問題:\n",
    "\n",
    "6. 契約i 每度電的價格:\n",
    "    \n",
    "    $$ B_{i} $$\n"
   ]
  },
  {
   "cell_type": "markdown",
   "metadata": {},
   "source": [
    "7.年合約限制:\n",
    "\n",
    "    年合約有上下20%的浮動值。\n",
    "    \n",
    "$$ 1.2 \\times P_{total} \\geq \\sum^{12}_{month=1} \\sum^{Day}_{day =1} \\sum^{96}_{t=1} \\sum ^{I}_{i=1} q_{ni}  \\geq 0.8 \\times P_{total}  $$\n"
   ]
  },
  {
   "cell_type": "markdown",
   "metadata": {},
   "source": [
    "* 決策變數\n",
    "\n",
    "$$ 1 \\geq P_{mi} \\geq 0 $$\n",
    "\n",
    "$$ T_{loss} $$"
   ]
  },
  {
   "cell_type": "markdown",
   "metadata": {},
   "source": [
    "* 目標含式:\n",
    "    \n",
    "$$min  -\\sum^{12}_{month=1} \\sum^{Day}_{day =1} \\sum^{96}_{t=1} \\sum ^{I}_{i=1} B_{i}q_{ni}$$    "
   ]
  },
  {
   "cell_type": "markdown",
   "metadata": {},
   "source": [
    "* 限制式:\n",
    "    每月的轉供度數必須符合契約。\n",
    "    \n",
    "    但目前契約的$ k_{ni}$ 過大。\n",
    "    \n",
    "    $$  k_{ni} \\geq \\sum ^{Day}_{day=1} \\sum ^{96}_{t=1} \\sum ^{I}_{i=1} q_{ni}$$\n",
    "    \n",
    "    每月剩餘的轉供度數。\n",
    "    \n",
    "    $$ A_{ni} = k_{ni} - \\sum ^{Day}_{day=1} \\sum ^{96}_{t=1} \\sum ^{I}_{i=1} q_{ni} $$\n",
    "    \n",
    "    目前契約的 $k_{ni}$ 值極大，此式目前作用不大，主要還是以實際用電量來做供電媒合限制。\n",
    "    \n",
    "    每個電廠最大轉供總計值為1\n",
    "    \n",
    "    $$ \\sum^{I}_{i=1} P_{mi} = 1 $$\n",
    "    \n",
    "    台電五項轉供式:\n",
    "        \n",
    "    $$ G_{mi} = R_{m} \\times P_{mi} $$\n",
    "    \n",
    "    $$ U_{ni} = min [A_{ni} , C_{ni}] $$\n",
    "    \n",
    "    $$ Q_{wi} = min [\\sum ^{M}_{m=1} G_{mi}, \\sum ^{N}_{n=1} U_{ni}]  $$\n",
    "    \n",
    "    $$ q_{mi} = Q_{wi} \\times \\frac{G_{mi}}{\\sum ^{M}_{m=1} G_{mi}}  $$    \n",
    "        \n",
    "    $$ q_{ni} = Q_{wi} \\times \\frac{U_{ni}}{\\sum ^{N}_{n=1} U_{ni}}  $$\n",
    "    \n",
    "    考量供給等於需求:\n",
    "        \n",
    "    $$ \\sum ^{M}_{m=1} G_{mi} +  T_{loss} = \\sum ^{N}_{n=1} U_{ni} $$"
   ]
  },
  {
   "cell_type": "markdown",
   "metadata": {},
   "source": [
    "# Import Library"
   ]
  },
  {
   "cell_type": "code",
   "execution_count": 1,
   "metadata": {},
   "outputs": [],
   "source": [
    "import numpy as np\n",
    "from gurobipy import*"
   ]
  },
  {
   "cell_type": "markdown",
   "metadata": {},
   "source": [
    "# Model"
   ]
  },
  {
   "cell_type": "code",
   "execution_count": 4,
   "metadata": {},
   "outputs": [
    {
     "name": "stdout",
     "output_type": "stream",
     "text": [
      "Academic license - for non-commercial use only - expires 2022-03-19\n",
      "Using license file C:\\Users\\YiSong\\gurobi.lic\n"
     ]
    }
   ],
   "source": [
    "model = Model('optimal_dispatch')\n",
    "model.update()"
   ]
  },
  {
   "cell_type": "markdown",
   "metadata": {},
   "source": [
    "# Add decision variables\n",
    "\n",
    "假設為10個電廠、10個客戶、10個契約，先最佳化第一個月(1/1 - 1/31)。"
   ]
  },
  {
   "cell_type": "code",
   "execution_count": 10,
   "metadata": {},
   "outputs": [],
   "source": [
    "P_mi = {}\n",
    "T_ploss = {}\n",
    "T_nloss = {}\n",
    "for m in range(1, 11, 1):\n",
    "    for i in range(1, 11, 1):\n",
    "       P_mi[m, i] = model.addVar(lb=0, ub=1, vtype=GRB.CONTINUOUS, name=\"P_%d_%d\"%(m,i)) \n",
    "\n",
    "for day in range(1,32,1):\n",
    "    for t in range(1, 97, 1):\n",
    "        T_ploss[day, t] = model.addVar(lb=0, vtype=GRB.CONTINUOUS, name=\"T_ploss_%d_%d\"%(day,t))\n",
    "        T_nloss[day, t] = model.addVar(ub=0, vtype=GRB.CONTINUOUS, name=\"T_nloss_%d_%d\"%(day,t))"
   ]
  },
  {
   "cell_type": "markdown",
   "metadata": {},
   "source": [
    "# Add objective and constraints"
   ]
  },
  {
   "cell_type": "code",
   "execution_count": null,
   "metadata": {},
   "outputs": [],
   "source": []
  }
 ],
 "metadata": {
  "kernelspec": {
   "display_name": "Python 3",
   "language": "python",
   "name": "python3"
  },
  "language_info": {
   "codemirror_mode": {
    "name": "ipython",
    "version": 3
   },
   "file_extension": ".py",
   "mimetype": "text/x-python",
   "name": "python",
   "nbconvert_exporter": "python",
   "pygments_lexer": "ipython3",
   "version": "3.7.0"
  }
 },
 "nbformat": 4,
 "nbformat_minor": 4
}
